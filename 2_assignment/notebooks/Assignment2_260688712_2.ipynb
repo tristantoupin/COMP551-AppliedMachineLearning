{
 "cells": [
  {
   "cell_type": "code",
   "execution_count": 1,
   "metadata": {},
   "outputs": [],
   "source": [
    "import numpy as np\n",
    "import pandas as pd\n",
    "import matplotlib as plt"
   ]
  },
  {
   "cell_type": "code",
   "execution_count": 6,
   "metadata": {},
   "outputs": [],
   "source": [
    "data_path = \"data/\"\n",
    "gen_data_path = \"generated/\"\n",
    "train_val_test_sizes = [0.6, 0.2, 0.2]"
   ]
  },
  {
   "cell_type": "code",
   "execution_count": 7,
   "metadata": {},
   "outputs": [],
   "source": [
    "def train_val_test_slipt(data, sizes):\n",
    "    # shuffle the data\n",
    "    data = data.sample(frac=1)\n",
    "    \n",
    "    # get split sizes\n",
    "    tr_size = int(sizes[0] * len(data))\n",
    "    val_size = int(sizes[1] * len(data))\n",
    "    test_size = int(sizes[2] * len(data))\n",
    "    \n",
    "    # divide the data\n",
    "    data_tr = data[:tr_size]\n",
    "    data_val = data[tr_size:tr_size + val_size]\n",
    "    data_test = data[-test_size:]\n",
    "    \n",
    "    return data_tr, data_val, data_test\n",
    "    \n",
    "def get_x_y_values(dataset):\n",
    "    return dataset.drop('class', axis = 1).values, dataset['class'].values"
   ]
  },
  {
   "cell_type": "code",
   "execution_count": 10,
   "metadata": {},
   "outputs": [],
   "source": [
    "df = pd.read_csv(gen_data_path + 'DS1_data')"
   ]
  },
  {
   "cell_type": "code",
   "execution_count": 11,
   "metadata": {},
   "outputs": [],
   "source": [
    "df_tr, df_val, df_test = train_val_test_slipt(df, train_val_test_sizes)"
   ]
  },
  {
   "cell_type": "code",
   "execution_count": 12,
   "metadata": {},
   "outputs": [],
   "source": [
    "tr_x, tr_y = get_x_y_values(df_tr)\n",
    "val_x, val_y = get_x_y_values(df_val)\n",
    "test_x, test_y = get_x_y_values(df_test)"
   ]
  },
  {
   "cell_type": "code",
   "execution_count": 13,
   "metadata": {},
   "outputs": [
    {
     "data": {
      "text/plain": [
       "array([[  1.29000000e+02,  -1.63828586e+00,   6.03113595e-01, ...,\n",
       "          1.10603718e-01,   2.72437909e+00,  -6.50008163e-02],\n",
       "       [  1.45200000e+03,   6.46670285e+00,   6.28235134e+00, ...,\n",
       "          6.80874969e+00,   7.42428781e+00,   5.07494122e+00],\n",
       "       [  9.08000000e+02,   1.21128666e+00,   5.77188966e-01, ...,\n",
       "          2.33637912e+00,   1.29373633e+00,   3.31292106e-01],\n",
       "       ..., \n",
       "       [  9.72000000e+02,   4.66475613e-01,   1.47059722e+00, ...,\n",
       "          1.04341883e+00,   5.58117344e-01,   2.78958407e+00],\n",
       "       [  1.56800000e+03,   5.63696226e+00,   3.97093768e+00, ...,\n",
       "          4.56805878e+00,   4.18752542e+00,   1.70757968e+00],\n",
       "       [  1.23500000e+03,   1.62663280e+00,   5.84288827e-01, ...,\n",
       "         -1.44247730e+00,  -8.06297261e-01,  -4.13821826e-01]])"
      ]
     },
     "execution_count": 13,
     "metadata": {},
     "output_type": "execute_result"
    }
   ],
   "source": [
    "val_x"
   ]
  },
  {
   "cell_type": "code",
   "execution_count": null,
   "metadata": {},
   "outputs": [],
   "source": []
  }
 ],
 "metadata": {
  "kernelspec": {
   "display_name": "Python 3",
   "language": "python",
   "name": "python3"
  },
  "language_info": {
   "codemirror_mode": {
    "name": "ipython",
    "version": 3
   },
   "file_extension": ".py",
   "mimetype": "text/x-python",
   "name": "python",
   "nbconvert_exporter": "python",
   "pygments_lexer": "ipython3",
   "version": "3.6.2"
  }
 },
 "nbformat": 4,
 "nbformat_minor": 2
}
