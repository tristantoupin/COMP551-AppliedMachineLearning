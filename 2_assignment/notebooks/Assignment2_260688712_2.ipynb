{
 "cells": [
  {
   "cell_type": "code",
   "execution_count": 1,
   "metadata": {},
   "outputs": [],
   "source": [
    "import numpy as np\n",
    "import pandas as pd\n",
    "import math\n",
    "import matplotlib as plt"
   ]
  },
  {
   "cell_type": "code",
   "execution_count": 2,
   "metadata": {},
   "outputs": [],
   "source": [
    "data_path = \"data/\"\n",
    "gen_data_path = \"generated/\"\n",
    "m0_file = \"DS1_m_0.txt\"\n",
    "m1_file = \"DS1_m_1.txt\"\n",
    "cov_file = \"DS1_Cov.txt\"\n",
    "num_features = 20\n",
    "train_val_test_sizes = [0.6, 0.2, 0.2]"
   ]
  },
  {
   "cell_type": "code",
   "execution_count": 3,
   "metadata": {},
   "outputs": [],
   "source": [
    "def get_matrix(feat, file_path, squeeze = True):\n",
    "    if squeeze:\n",
    "        return np.squeeze(pd.read_csv(file_path, header = None).drop(columns = feat).values, axis = 0)\n",
    "    else:\n",
    "        return pd.read_csv(file_path, header = None).drop(columns = feat).values"
   ]
  },
  {
   "cell_type": "code",
   "execution_count": 4,
   "metadata": {},
   "outputs": [],
   "source": [
    "def get_x_y_values(dataset):\n",
    "    return dataset.drop('class', axis = 1).values, dataset['class'].values"
   ]
  },
  {
   "cell_type": "code",
   "execution_count": 5,
   "metadata": {},
   "outputs": [],
   "source": [
    "df = pd.read_csv(gen_data_path + 'DS1', index_col = 'Unnamed: 0')"
   ]
  },
  {
   "cell_type": "code",
   "execution_count": 6,
   "metadata": {},
   "outputs": [],
   "source": [
    "test_x, test_y = get_x_y_values(df)"
   ]
  },
  {
   "cell_type": "code",
   "execution_count": 7,
   "metadata": {},
   "outputs": [],
   "source": [
    "m0 = get_matrix(num_features, data_path + m0_file)\n",
    "m1 = get_matrix(num_features, data_path + m1_file)\n",
    "cov = get_matrix(num_features, data_path + cov_file, False)"
   ]
  },
  {
   "cell_type": "code",
   "execution_count": 8,
   "metadata": {},
   "outputs": [],
   "source": [
    "def sigmoid(a):\n",
    "    return 1 / (1 + math.exp(-a))\n",
    "\n",
    "def set_coeff():\n",
    "    inv_cov = np.linalg.inv(cov)\n",
    "    w = np.matmul(inv_cov, (m0-m1))\n",
    "    \n",
    "    w0_0 = -0.5 * np.matmul(m0.T, np.matmul(inv_cov, m0))\n",
    "    w0_1 = 0.5 * np.matmul(m1.T, np.matmul(inv_cov, m1))\n",
    "    \n",
    "    # adding b/c 50/50 percent chances\n",
    "    w0 = w0_0 + w0_1 + 1\n",
    "    return w, w0\n",
    "\n",
    "def eval_x(x):\n",
    "    a = np.matmul(w_glob, x) + w0_glob\n",
    "    return round(1 - sigmoid(a))"
   ]
  },
  {
   "cell_type": "code",
   "execution_count": 9,
   "metadata": {},
   "outputs": [],
   "source": [
    "w_glob, w0_glob = set_coeff()"
   ]
  },
  {
   "cell_type": "code",
   "execution_count": 10,
   "metadata": {},
   "outputs": [],
   "source": [
    "def test_model(data_x, data_y):\n",
    "    TN, TP, FN, FP = 0, 0, 0, 0\n",
    "    for x, y in zip(data_x, data_y):\n",
    "        y_pred = eval_x(x)\n",
    "        if y_pred == y:\n",
    "            if y_pred:\n",
    "                TP += 1\n",
    "            else: \n",
    "                TN += 1\n",
    "        else: \n",
    "            if y_pred:\n",
    "                FP += 1\n",
    "            else: \n",
    "                FN += 1\n",
    "    \n",
    "    accuracy = (TN + TP)/len(data_y)\n",
    "    precision = TP / (TP + FP)\n",
    "    recall = TP / (TP + FN)\n",
    "    F_measure = (2 * recall * precision) / (recall + precision)\n",
    "    \n",
    "    return accuracy, precision, recall, F_measure"
   ]
  },
  {
   "cell_type": "code",
   "execution_count": 11,
   "metadata": {},
   "outputs": [],
   "source": [
    "accuracy, precision, recall, F_measure = test_model(test_x, test_y)"
   ]
  },
  {
   "cell_type": "code",
   "execution_count": 12,
   "metadata": {},
   "outputs": [
    {
     "name": "stdout",
     "output_type": "stream",
     "text": [
      "The accuracy is: 0.95.\n",
      "The precision is: 0.9742268041237113.\n",
      "The recall is: 0.9264705882352942.\n",
      "The F-measure is: 0.949748743718593.\n"
     ]
    }
   ],
   "source": [
    "print(\"The accuracy is: %s.\" % (accuracy))\n",
    "print(\"The precision is: %s.\" % (precision))\n",
    "print(\"The recall is: %s.\" % (recall))\n",
    "print(\"The F-measure is: %s.\" % (F_measure))"
   ]
  },
  {
   "cell_type": "code",
   "execution_count": 13,
   "metadata": {},
   "outputs": [
    {
     "name": "stdout",
     "output_type": "stream",
     "text": [
      "The learnt w0 coefficiants is: 27.9753091904.\n",
      "The learnt w coefficiants are: [ 14.25856816  -8.4855298   -5.53042923  -3.08598499  -9.58250653\n",
      "  -4.25451151  16.67788119 -23.81922914 -28.75865812   9.08190859\n",
      " -13.0029778  -12.11999481  15.34983455  12.76433091  -5.60967679\n",
      "  12.90527982  28.99599201  -6.64595429  -0.50925941  -4.97775505].\n"
     ]
    }
   ],
   "source": [
    "print(\"The learnt w0 coefficiants is: %s.\" % w0_glob)\n",
    "print(\"The learnt w coefficiants are: %s.\" % w_glob)"
   ]
  },
  {
   "cell_type": "code",
   "execution_count": null,
   "metadata": {},
   "outputs": [],
   "source": []
  }
 ],
 "metadata": {
  "kernelspec": {
   "display_name": "Python 3",
   "language": "python",
   "name": "python3"
  },
  "language_info": {
   "codemirror_mode": {
    "name": "ipython",
    "version": 3
   },
   "file_extension": ".py",
   "mimetype": "text/x-python",
   "name": "python",
   "nbconvert_exporter": "python",
   "pygments_lexer": "ipython3",
   "version": "3.6.2"
  }
 },
 "nbformat": 4,
 "nbformat_minor": 2
}
