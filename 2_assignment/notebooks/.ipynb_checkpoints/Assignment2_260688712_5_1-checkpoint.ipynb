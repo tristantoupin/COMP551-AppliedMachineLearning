{
 "cells": [
  {
   "cell_type": "code",
   "execution_count": 1,
   "metadata": {},
   "outputs": [],
   "source": [
    "import numpy as np\n",
    "import pandas as pd\n",
    "import math"
   ]
  },
  {
   "cell_type": "code",
   "execution_count": 2,
   "metadata": {},
   "outputs": [],
   "source": [
    "data_path = \"data/\"\n",
    "gen_data_path = \"generated/\"\n",
    "c1_m1_file = \"DS2_c1_m1.txt\" # positive \n",
    "c1_m2_file = \"DS2_c1_m2.txt\" # positive \n",
    "c1_m3_file = \"DS2_c1_m3.txt\" # positive \n",
    "c2_m1_file = \"DS2_c2_m1.txt\" # negative\n",
    "c2_m2_file = \"DS2_c2_m2.txt\" # negative\n",
    "c2_m3_file = \"DS2_c2_m3.txt\" # negative\n",
    "cov1_file = \"DS2_Cov1.txt\"\n",
    "cov2_file = \"DS2_Cov2.txt\"\n",
    "cov3_file = \"DS2_Cov3.txt\"\n",
    "\n",
    "probability_mixture = [0.1,0.42,0.48]\n",
    "num_class = 2\n",
    "num_features = 20\n",
    "num_obs = 2000\n",
    "train_val_test_sizes = [0.6, 0.2, 0.2]"
   ]
  },
  {
   "cell_type": "code",
   "execution_count": 4,
   "metadata": {},
   "outputs": [],
   "source": [
    "def get_matrix(feat, file_path, squeeze = True):\n",
    "    if squeeze:\n",
    "        return np.squeeze(pd.read_csv(file_path, header = None).drop(columns = feat).values, axis = 0)\n",
    "    else:\n",
    "        return pd.read_csv(file_path, header = None).drop(columns = feat).values\n",
    "    \n",
    "def get_x_y_values(dataset):\n",
    "    return dataset.drop('class', axis = 1).values, dataset['class'].values"
   ]
  },
  {
   "cell_type": "code",
   "execution_count": 5,
   "metadata": {},
   "outputs": [],
   "source": [
    "df = pd.read_csv(gen_data_path + 'DS1', index_col = 'Unnamed: 0')\n",
    "test_x, test_y = get_x_y_values(df)"
   ]
  },
  {
   "cell_type": "code",
   "execution_count": 8,
   "metadata": {},
   "outputs": [],
   "source": [
    "c1_m1 = get_matrix(num_features, data_path + c1_m1_file)\n",
    "c1_m2 = get_matrix(num_features, data_path + c1_m2_file)\n",
    "c1_m3 = get_matrix(num_features, data_path + c1_m3_file)\n",
    "c2_m1 = get_matrix(num_features, data_path + c2_m1_file)\n",
    "c2_m2 = get_matrix(num_features, data_path + c2_m2_file)\n",
    "c2_m3 = get_matrix(num_features, data_path + c2_m3_file)\n",
    "\n",
    "cov1 = get_matrix(num_features, data_path + cov1_file, False)\n",
    "cov2 = get_matrix(num_features, data_path + cov2_file, False)\n",
    "cov3 = get_matrix(num_features, data_path + cov3_file, False)"
   ]
  },
  {
   "cell_type": "code",
   "execution_count": 9,
   "metadata": {},
   "outputs": [],
   "source": [
    "def sigmoid(a):\n",
    "    return 1 / (1 + math.exp(-a))\n",
    "\n",
    "def set_coeff():\n",
    "    inv_cov = np.linalg.inv(cov)\n",
    "    w = np.matmul(inv_cov, (m0-m1))\n",
    "    \n",
    "    w0_0 = -0.5 * np.matmul(m0.T, np.matmul(inv_cov, m0))\n",
    "    w0_1 = 0.5 * np.matmul(m1.T, np.matmul(inv_cov, m1))\n",
    "    \n",
    "    # adding b/c 50/50 percent chances\n",
    "    w0 = w0_0 + w0_1 + 1\n",
    "    return w, w0\n",
    "\n",
    "def eval_x(x):\n",
    "    a = np.matmul(w_glob, x) + w0_glob\n",
    "    return round(1 - sigmoid(a))"
   ]
  },
  {
   "cell_type": "code",
   "execution_count": 10,
   "metadata": {},
   "outputs": [
    {
     "ename": "NameError",
     "evalue": "name 'cov' is not defined",
     "output_type": "error",
     "traceback": [
      "\u001b[0;31m---------------------------------------------------------------------------\u001b[0m",
      "\u001b[0;31mNameError\u001b[0m                                 Traceback (most recent call last)",
      "\u001b[0;32m<ipython-input-10-d724f041c7e9>\u001b[0m in \u001b[0;36m<module>\u001b[0;34m()\u001b[0m\n\u001b[0;32m----> 1\u001b[0;31m \u001b[0mw_glob\u001b[0m\u001b[0;34m,\u001b[0m \u001b[0mw0_glob\u001b[0m \u001b[0;34m=\u001b[0m \u001b[0mset_coeff\u001b[0m\u001b[0;34m(\u001b[0m\u001b[0;34m)\u001b[0m\u001b[0;34m\u001b[0m\u001b[0m\n\u001b[0m",
      "\u001b[0;32m<ipython-input-9-5c4a0e639124>\u001b[0m in \u001b[0;36mset_coeff\u001b[0;34m()\u001b[0m\n\u001b[1;32m      3\u001b[0m \u001b[0;34m\u001b[0m\u001b[0m\n\u001b[1;32m      4\u001b[0m \u001b[0;32mdef\u001b[0m \u001b[0mset_coeff\u001b[0m\u001b[0;34m(\u001b[0m\u001b[0;34m)\u001b[0m\u001b[0;34m:\u001b[0m\u001b[0;34m\u001b[0m\u001b[0m\n\u001b[0;32m----> 5\u001b[0;31m     \u001b[0minv_cov\u001b[0m \u001b[0;34m=\u001b[0m \u001b[0mnp\u001b[0m\u001b[0;34m.\u001b[0m\u001b[0mlinalg\u001b[0m\u001b[0;34m.\u001b[0m\u001b[0minv\u001b[0m\u001b[0;34m(\u001b[0m\u001b[0mcov\u001b[0m\u001b[0;34m)\u001b[0m\u001b[0;34m\u001b[0m\u001b[0m\n\u001b[0m\u001b[1;32m      6\u001b[0m     \u001b[0mw\u001b[0m \u001b[0;34m=\u001b[0m \u001b[0mnp\u001b[0m\u001b[0;34m.\u001b[0m\u001b[0mmatmul\u001b[0m\u001b[0;34m(\u001b[0m\u001b[0minv_cov\u001b[0m\u001b[0;34m,\u001b[0m \u001b[0;34m(\u001b[0m\u001b[0mm0\u001b[0m\u001b[0;34m-\u001b[0m\u001b[0mm1\u001b[0m\u001b[0;34m)\u001b[0m\u001b[0;34m)\u001b[0m\u001b[0;34m\u001b[0m\u001b[0m\n\u001b[1;32m      7\u001b[0m \u001b[0;34m\u001b[0m\u001b[0m\n",
      "\u001b[0;31mNameError\u001b[0m: name 'cov' is not defined"
     ]
    }
   ],
   "source": [
    "w_glob, w0_glob = set_coeff()"
   ]
  },
  {
   "cell_type": "code",
   "execution_count": null,
   "metadata": {},
   "outputs": [],
   "source": []
  }
 ],
 "metadata": {
  "kernelspec": {
   "display_name": "Python 3",
   "language": "python",
   "name": "python3"
  },
  "language_info": {
   "codemirror_mode": {
    "name": "ipython",
    "version": 3
   },
   "file_extension": ".py",
   "mimetype": "text/x-python",
   "name": "python",
   "nbconvert_exporter": "python",
   "pygments_lexer": "ipython3",
   "version": "3.6.2"
  }
 },
 "nbformat": 4,
 "nbformat_minor": 2
}
