{
 "cells": [
  {
   "cell_type": "code",
   "execution_count": 6,
   "metadata": {},
   "outputs": [],
   "source": [
    "import numpy as np\n",
    "import pandas as pd\n",
    "from scipy.spatial import distance\n",
    "from tqdm import tqdm_notebook as tqdm"
   ]
  },
  {
   "cell_type": "code",
   "execution_count": 9,
   "metadata": {},
   "outputs": [],
   "source": [
    "data_path = \"data/\"\n",
    "gen_data_path = \"generated/\"\n",
    "df_tr_file = \"DS2_train\"\n",
    "df_test_file = \"DS2\"\n",
    "df_val_file = \"DS2_val\""
   ]
  },
  {
   "cell_type": "code",
   "execution_count": 10,
   "metadata": {},
   "outputs": [],
   "source": [
    "df_test = pd.read_csv(gen_data_path + df_test_file, index_col = 'Unnamed: 0')\n",
    "df_val = pd.read_csv(gen_data_path + df_val_file, index_col = 'Unnamed: 0')\n",
    "df_tr = pd.read_csv(gen_data_path + df_tr_file, index_col = 'Unnamed: 0')"
   ]
  },
  {
   "cell_type": "code",
   "execution_count": 11,
   "metadata": {},
   "outputs": [],
   "source": [
    "def get_x_y_values(dataset):\n",
    "    return dataset.drop('class', axis = 1).values, dataset['class'].values"
   ]
  },
  {
   "cell_type": "code",
   "execution_count": 12,
   "metadata": {},
   "outputs": [],
   "source": [
    "test_x, test_y = get_x_y_values(df_test)\n",
    "val_x, val_y = get_x_y_values(df_val)\n",
    "train_x, train_y = get_x_y_values(df_tr)"
   ]
  },
  {
   "cell_type": "code",
   "execution_count": 13,
   "metadata": {},
   "outputs": [],
   "source": [
    "def get_dist(a, b):\n",
    "    return distance.cdist(a, b, metric='euclidean')\n",
    "\n",
    "def knn(k, xs, ys):\n",
    "    TN, TP, FN, FP = 0, 0, 0, 0\n",
    "    distances_indexes = np.array([])\n",
    "    for x, y in zip(xs, ys):\n",
    "        d = get_dist([x], train_x).flatten().flatten().argsort()[:k]\n",
    "        distances_indexes = np.append(distances_indexes, d)\n",
    "        \n",
    "        # find the class of val_x based on k-nearest neighbors\n",
    "        classes = [(train_y[int(i)]) for i in distances_indexes]\n",
    "        y_pred = int(round(sum(classes)/len(classes)))\n",
    "        \n",
    "        if y_pred == y:\n",
    "            if y_pred:\n",
    "                TP += 1\n",
    "            else: \n",
    "                TN += 1\n",
    "        else: \n",
    "            if y_pred:\n",
    "                FP += 1\n",
    "            else: \n",
    "                FN += 1\n",
    "            \n",
    "    accuracy = (TN + TP)/len(ys)\n",
    "    precision = TP / (TP + FP)\n",
    "    recall = TP / (TP + FN)\n",
    "    F_measure = (2 * recall * precision) / (recall + precision)\n",
    "    \n",
    "    return np.array([accuracy, precision, recall, F_measure])\n"
   ]
  },
  {
   "cell_type": "code",
   "execution_count": 14,
   "metadata": {},
   "outputs": [
    {
     "data": {
      "application/vnd.jupyter.widget-view+json": {
       "model_id": "2d1e6bf90e344bf78b7a7b1175cf8969",
       "version_major": 2,
       "version_minor": 0
      },
      "text/html": [
       "<p>Failed to display Jupyter Widget of type <code>HBox</code>.</p>\n",
       "<p>\n",
       "  If you're reading this message in the Jupyter Notebook or JupyterLab Notebook, it may mean\n",
       "  that the widgets JavaScript is still loading. If this message persists, it\n",
       "  likely means that the widgets JavaScript library is either not installed or\n",
       "  not enabled. See the <a href=\"https://ipywidgets.readthedocs.io/en/stable/user_install.html\">Jupyter\n",
       "  Widgets Documentation</a> for setup instructions.\n",
       "</p>\n",
       "<p>\n",
       "  If you're reading this message in another frontend (for example, a static\n",
       "  rendering on GitHub or <a href=\"https://nbviewer.jupyter.org/\">NBViewer</a>),\n",
       "  it may mean that your frontend doesn't currently support widgets.\n",
       "</p>\n"
      ],
      "text/plain": [
       "HBox(children=(IntProgress(value=0, max=49), HTML(value='')))"
      ]
     },
     "metadata": {},
     "output_type": "display_data"
    },
    {
     "name": "stdout",
     "output_type": "stream",
     "text": [
      "\n"
     ]
    }
   ],
   "source": [
    "result = np.array([])\n",
    "# trying k values ranging from [1, 50]\n",
    "result = knn(1, val_x, val_y)\n",
    "for k in tqdm(range(2,51)):\n",
    "    result = np.vstack([result, knn(k, val_x, val_y)])"
   ]
  },
  {
   "cell_type": "code",
   "execution_count": 15,
   "metadata": {},
   "outputs": [],
   "source": [
    "max_f1 = np.max(result[:,3])\n",
    "f1_pos = np.where(result[:,3] == max_f1)[0][0]"
   ]
  },
  {
   "cell_type": "code",
   "execution_count": 16,
   "metadata": {},
   "outputs": [
    {
     "name": "stdout",
     "output_type": "stream",
     "text": [
      "The best f1 score is 0.669014084507 with k = 36\n"
     ]
    }
   ],
   "source": [
    "print(\"The best f1 score is %s with k = %s\" % (max_f1, f1_pos + 1))"
   ]
  },
  {
   "cell_type": "code",
   "execution_count": 17,
   "metadata": {},
   "outputs": [],
   "source": [
    "test_metrics = knn(f1_pos + 1, test_x, test_y)"
   ]
  },
  {
   "cell_type": "code",
   "execution_count": 18,
   "metadata": {},
   "outputs": [
    {
     "name": "stdout",
     "output_type": "stream",
     "text": [
      "For k = 37, the accuracy: 0.4800, precision: 0.4875, recall: 0.8794 and F-measure: 0.6272\n"
     ]
    }
   ],
   "source": [
    "print(\"For k = %s, the accuracy: %.4f, \"\n",
    "     \"precision: %.4f, recall: %.4f \"\n",
    "     \"and F-measure: %.4f\" % (f1_pos + 1, test_metrics[0], test_metrics[1], test_metrics[2], test_metrics[3]))"
   ]
  },
  {
   "cell_type": "code",
   "execution_count": null,
   "metadata": {},
   "outputs": [],
   "source": []
  }
 ],
 "metadata": {
  "kernelspec": {
   "display_name": "Python 3",
   "language": "python",
   "name": "python3"
  },
  "language_info": {
   "codemirror_mode": {
    "name": "ipython",
    "version": 3
   },
   "file_extension": ".py",
   "mimetype": "text/x-python",
   "name": "python",
   "nbconvert_exporter": "python",
   "pygments_lexer": "ipython3",
   "version": "3.6.2"
  }
 },
 "nbformat": 4,
 "nbformat_minor": 2
}
