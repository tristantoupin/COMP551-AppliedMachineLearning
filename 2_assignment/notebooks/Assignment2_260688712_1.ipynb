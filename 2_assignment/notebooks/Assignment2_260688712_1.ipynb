{
 "cells": [
  {
   "cell_type": "code",
   "execution_count": 1,
   "metadata": {},
   "outputs": [],
   "source": [
    "import numpy as np\n",
    "import pandas as pd\n",
    "import matplotlib as plt"
   ]
  },
  {
   "cell_type": "code",
   "execution_count": 2,
   "metadata": {},
   "outputs": [],
   "source": [
    "data_path = \"data/\"\n",
    "gen_data_path = \"generated/\"\n",
    "m0_file = \"DS1_m_0.txt\"\n",
    "m1_file = \"DS1_m_1.txt\"\n",
    "cov_file = \"DS1_Cov.txt\"\n",
    "num_class = 2\n",
    "num_features = 20\n",
    "num_obs = 2000\n",
    "train_val_test_sizes = [0.6, 0.2, 0.2]"
   ]
  },
  {
   "cell_type": "code",
   "execution_count": 3,
   "metadata": {},
   "outputs": [],
   "source": [
    "def get_matrix(feat, file_path, squeeze = True):\n",
    "    if squeeze:\n",
    "        return np.squeeze(pd.read_csv(file_path, header = None).drop(columns = feat).values, axis = 0)\n",
    "    else:\n",
    "        return pd.read_csv(file_path, header = None).drop(columns = feat).values"
   ]
  },
  {
   "cell_type": "code",
   "execution_count": 4,
   "metadata": {},
   "outputs": [],
   "source": [
    "def get_data(feat, obs, class_):\n",
    "    # get the matrix\n",
    "    m0 = get_matrix(feat, data_path + m0_file)\n",
    "    m1 = get_matrix(feat, data_path + m1_file)\n",
    "    cov = get_matrix(feat, data_path + cov_file, False)\n",
    "    \n",
    "    # generate random data\n",
    "    neg_class = np.random.multivariate_normal(m0, cov, int(obs/class_))\n",
    "    pos_class = np.random.multivariate_normal(m1, cov, int(obs/class_))\n",
    "    \n",
    "    # add the classes\n",
    "    df_0 = pd.DataFrame(neg_class)\n",
    "    df_1 = pd.DataFrame(pos_class)\n",
    "    df_0['class'], df_1['class'] = 0, 1\n",
    "    \n",
    "    # concat into a single df\n",
    "    return pd.concat([df_0, df_1], ignore_index = True)"
   ]
  },
  {
   "cell_type": "code",
   "execution_count": 5,
   "metadata": {},
   "outputs": [],
   "source": [
    "df = get_data(num_features, num_obs, num_class)"
   ]
  },
  {
   "cell_type": "code",
   "execution_count": 7,
   "metadata": {},
   "outputs": [],
   "source": [
    "df_tr, df_val, df_test = train_val_test_slipt(df, train_val_test_sizes)"
   ]
  },
  {
   "cell_type": "code",
   "execution_count": 9,
   "metadata": {},
   "outputs": [],
   "source": [
    "df.to_csv(gen_data_path + 'DS1_data')\n",
    "df_tr.to_csv(gen_data_path + 'DS1_data_train')\n",
    "df_val.to_csv(gen_data_path + 'DS1_data_validation')\n",
    "df_test.to_csv(gen_data_path + 'DS1')"
   ]
  },
  {
   "cell_type": "code",
   "execution_count": null,
   "metadata": {},
   "outputs": [],
   "source": []
  }
 ],
 "metadata": {
  "kernelspec": {
   "display_name": "Python 3",
   "language": "python",
   "name": "python3"
  },
  "language_info": {
   "codemirror_mode": {
    "name": "ipython",
    "version": 3
   },
   "file_extension": ".py",
   "mimetype": "text/x-python",
   "name": "python",
   "nbconvert_exporter": "python",
   "pygments_lexer": "ipython3",
   "version": "3.6.2"
  }
 },
 "nbformat": 4,
 "nbformat_minor": 2
}
