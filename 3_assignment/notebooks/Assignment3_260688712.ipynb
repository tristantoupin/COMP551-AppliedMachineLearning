{
 "cells": [
  {
   "cell_type": "markdown",
   "metadata": {},
   "source": [
    "# Assigment 3"
   ]
  },
  {
   "cell_type": "code",
   "execution_count": 2,
   "metadata": {},
   "outputs": [],
   "source": [
    "import numpy as np\n",
    "import pandas as pd\n",
    "from sklearn.naive_bayes import GaussianNB\n",
    "from sklearn import tree, svm, metrics\n",
    "from sklearn.dummy import DummyClassifier\n",
    "import string\n",
    "from scipy import stats\n",
    "from tqdm import tqdm_notebook as tqdm"
   ]
  },
  {
   "cell_type": "code",
   "execution_count": 1,
   "metadata": {},
   "outputs": [],
   "source": [
    "path_to_data = \"../data/\"\n",
    "path_to_gen = \"../generated/\"\n",
    "\n",
    "# paht to imbd\n",
    "imbd_train = \"IMDB-train.txt\"\n",
    "imbd_val = \"IMDB-valid.txt\"\n",
    "imbd_test = \"IMDB-test.txt\"\n",
    "\n",
    "# paht to yelp\n",
    "yelp_train = \"yelp-train.txt\"\n",
    "yelp_val = \"yelp-valid.txt\"\n",
    "yelp_test = \"yelp-test.txt\""
   ]
  },
  {
   "cell_type": "code",
   "execution_count": 3,
   "metadata": {},
   "outputs": [],
   "source": [
    "# get the data as df\n",
    "df_imbd_train = pd.read_csv(path_to_data + imbd_train, sep=\"\\t\",\n",
    "                            header=None).rename(columns={0: \"review\", 1: \"class\"})\n",
    "df_imbd_test = pd.read_csv(path_to_data + imbd_test, sep=\"\\t\",\n",
    "                            header=None).rename(columns={0: \"review\", 1: \"class\"})\n",
    "df_imbd_val = pd.read_csv(path_to_data + imbd_val, sep=\"\\t\",\n",
    "                            header=None).rename(columns={0: \"review\", 1: \"class\"})\n",
    "\n",
    "df_yelp_train = pd.read_csv(path_to_data + yelp_train, sep=\"\\t\",\n",
    "                            header=None).rename(columns={0: \"review\", 1: \"class\"})\n",
    "df_yelp_test = pd.read_csv(path_to_data + yelp_test, sep=\"\\t\",\n",
    "                            header=None).rename(columns={0: \"review\", 1: \"class\"})\n",
    "df_yelp_val = pd.read_csv(path_to_data + yelp_val, sep=\"\\t\",\n",
    "                            header=None).rename(columns={0: \"review\", 1: \"class\"})"
   ]
  },
  {
   "cell_type": "markdown",
   "metadata": {},
   "source": [
    "## Question 1"
   ]
  },
  {
   "cell_type": "code",
   "execution_count": 5,
   "metadata": {},
   "outputs": [],
   "source": [
    "# count frequency of normalized x\n",
    "def normalize_df(e):\n",
    "    translator = str.maketrans('', '', string.punctuation)\n",
    "    normalizer = lambda x: x.lower().translate(translator) # lower and remove punctuation\n",
    "    return list(filter(None, ' '.join(list(map(normalizer, np.array(e.review)))).split(' ')))\n",
    "\n",
    "def normalize_str(e):\n",
    "    translator = str.maketrans('', '', string.punctuation)\n",
    "    normalizer = lambda x: x.lower().translate(translator) # lower and remove punctuation\n",
    "    return list(filter(None, list(map(normalizer, e.split(' ')))))\n",
    "    \n",
    "    \n",
    "def count_word_frequency(words):\n",
    "    occurence = {}\n",
    "    for w in words:\n",
    "        if w in occurence:\n",
    "            occurence[w] += 1\n",
    "        else:\n",
    "            occurence[w] = 1\n",
    "    return occurence\n",
    "\n",
    "def get_most_n_frequent(data, n):\n",
    "    normed = normalize_df(data)\n",
    "    count_dict = count_word_frequency(normed)\n",
    "    n_sorted_words = (sorted(count_dict.items(), key=lambda kv: kv[1], reverse = True)[:n])\n",
    "    return [k for k,v in n_sorted_words]\n",
    "    \n",
    "def gen_vec(data, data_train):\n",
    "    n = 10000\n",
    "    most_freq = []\n",
    "    df_vector_b = pd.DataFrame(columns=['review', 'class'])\n",
    "    df_vector_f = pd.DataFrame(columns=['review', 'class'])\n",
    "\n",
    "    # check if we use the data to generate the train or not\n",
    "    most_freq = get_most_n_frequent(data_train, n)\n",
    "    \n",
    "    for review, class_id in tqdm(zip(data.review, data['class']), total = len(data.review)):\n",
    "        vector_b, vector_f = np.zeros(n), np.zeros(n)  \n",
    "        sum_ = 0\n",
    "        for word in normalize_str(review):\n",
    "            if word in most_freq:\n",
    "                i = most_freq.index(word)\n",
    "                vector_b[i] = 1\n",
    "                vector_f[i] += 1\n",
    "                sum_ += 1\n",
    "        vector_f = [float(e/sum_) for e in vector_f]\n",
    "        df_vector_b = df_vector_b.append({'review': np.array(vector_b), 'class': class_id}, ignore_index=True)\n",
    "        df_vector_f = df_vector_f.append({'review': np.array(vector_f), 'class': class_id}, ignore_index=True)\n",
    "    return df_vector_b, df_vector_f"
   ]
  },
  {
   "cell_type": "code",
   "execution_count": null,
   "metadata": {
    "scrolled": false
   },
   "outputs": [
    {
     "data": {
      "application/vnd.jupyter.widget-view+json": {
       "model_id": "edd69147aad24cbcb1de31eb9f000421",
       "version_major": 2,
       "version_minor": 0
      },
      "text/html": [
       "<p>Failed to display Jupyter Widget of type <code>HBox</code>.</p>\n",
       "<p>\n",
       "  If you're reading this message in the Jupyter Notebook or JupyterLab Notebook, it may mean\n",
       "  that the widgets JavaScript is still loading. If this message persists, it\n",
       "  likely means that the widgets JavaScript library is either not installed or\n",
       "  not enabled. See the <a href=\"https://ipywidgets.readthedocs.io/en/stable/user_install.html\">Jupyter\n",
       "  Widgets Documentation</a> for setup instructions.\n",
       "</p>\n",
       "<p>\n",
       "  If you're reading this message in another frontend (for example, a static\n",
       "  rendering on GitHub or <a href=\"https://nbviewer.jupyter.org/\">NBViewer</a>),\n",
       "  it may mean that your frontend doesn't currently support widgets.\n",
       "</p>\n"
      ],
      "text/plain": [
       "HBox(children=(IntProgress(value=0, max=15000), HTML(value='')))"
      ]
     },
     "metadata": {},
     "output_type": "display_data"
    },
    {
     "name": "stdout",
     "output_type": "stream",
     "text": [
      "\n"
     ]
    },
    {
     "data": {
      "application/vnd.jupyter.widget-view+json": {
       "model_id": "7069bda0a9d44779a606120d37d98f4b",
       "version_major": 2,
       "version_minor": 0
      },
      "text/html": [
       "<p>Failed to display Jupyter Widget of type <code>HBox</code>.</p>\n",
       "<p>\n",
       "  If you're reading this message in the Jupyter Notebook or JupyterLab Notebook, it may mean\n",
       "  that the widgets JavaScript is still loading. If this message persists, it\n",
       "  likely means that the widgets JavaScript library is either not installed or\n",
       "  not enabled. See the <a href=\"https://ipywidgets.readthedocs.io/en/stable/user_install.html\">Jupyter\n",
       "  Widgets Documentation</a> for setup instructions.\n",
       "</p>\n",
       "<p>\n",
       "  If you're reading this message in another frontend (for example, a static\n",
       "  rendering on GitHub or <a href=\"https://nbviewer.jupyter.org/\">NBViewer</a>),\n",
       "  it may mean that your frontend doesn't currently support widgets.\n",
       "</p>\n"
      ],
      "text/plain": [
       "HBox(children=(IntProgress(value=0, max=7000), HTML(value='')))"
      ]
     },
     "metadata": {},
     "output_type": "display_data"
    },
    {
     "name": "stderr",
     "output_type": "stream",
     "text": [
      "/Library/Frameworks/Python.framework/Versions/3.6/lib/python3.6/site-packages/ipykernel_launcher.py:46: RuntimeWarning: invalid value encountered in double_scalars\n"
     ]
    },
    {
     "name": "stdout",
     "output_type": "stream",
     "text": [
      "\n"
     ]
    },
    {
     "data": {
      "application/vnd.jupyter.widget-view+json": {
       "model_id": "498b2b863d504ef68467ece2702818c6",
       "version_major": 2,
       "version_minor": 0
      },
      "text/html": [
       "<p>Failed to display Jupyter Widget of type <code>HBox</code>.</p>\n",
       "<p>\n",
       "  If you're reading this message in the Jupyter Notebook or JupyterLab Notebook, it may mean\n",
       "  that the widgets JavaScript is still loading. If this message persists, it\n",
       "  likely means that the widgets JavaScript library is either not installed or\n",
       "  not enabled. See the <a href=\"https://ipywidgets.readthedocs.io/en/stable/user_install.html\">Jupyter\n",
       "  Widgets Documentation</a> for setup instructions.\n",
       "</p>\n",
       "<p>\n",
       "  If you're reading this message in another frontend (for example, a static\n",
       "  rendering on GitHub or <a href=\"https://nbviewer.jupyter.org/\">NBViewer</a>),\n",
       "  it may mean that your frontend doesn't currently support widgets.\n",
       "</p>\n"
      ],
      "text/plain": [
       "HBox(children=(IntProgress(value=0, max=25000), HTML(value='')))"
      ]
     },
     "metadata": {},
     "output_type": "display_data"
    }
   ],
   "source": [
    "# binary bag-of-words representation\n",
    "df_imbd_train_BBoW, df_imbd_train_FBoW = gen_vec(df_imbd_train, df_imbd_train)\n",
    "df_yelp_train_BBoW, df_yelp_train_FBoW = gen_vec(df_yelp_train, df_yelp_train)\n",
    "df_imbd_test_BBoW, df_imbd_test_FBoW = gen_vec(df_imbd_test, df_imbd_train)\n",
    "df_yelp_test_BBoW, df_yelp_test_FBoW = gen_vec(df_yelp_test, df_yelp_train)\n",
    "df_imbd_val_BBoW, df_imbd_val_FBoW = gen_vec(df_imbd_val, df_imbd_train)\n",
    "df_yelp_val_BBoW, df_yelp_val_FBoW = gen_vec(df_yelp_val, df_yelp_train)"
   ]
  },
  {
   "cell_type": "code",
   "execution_count": null,
   "metadata": {},
   "outputs": [],
   "source": [
    "# save the dataframes just created\n",
    "def save_gen(dataframes, type_, dataset_name):\n",
    "    # dataframes in order [train, val, test]\n",
    "    suffixes = [\"-train-\", \"-valid-\", \"-test\"]\n",
    "    for df, s in zip(dataframes, suffixes)\n",
    "        df.to_csv(path_to_gen + dataset_name + s + type_, header=None, index=None, sep=' ', mode='a')\n",
    "        \n",
    "save_gen([df_imbd_train_BBoW, df_imbd_val_BBoW, df_imbd_test_BBoW], \"BBoW\", \"IMBD\")\n",
    "save_gen([df_yelp_train_BBoW, df_yelp_val_BBoW, df_yelp_test_BBoW], \"BBoW\", \"yelp\")\n",
    "save_gen([df_imbd_train_FBoW, df_imbd_val_FBoW, df_imbd_test_FBoW], \"FBoW\", \"IMBD\")\n",
    "save_gen([df_yelp_train_FBoW, df_yelp_val_FBoW, df_yelp_test_FBoW], \"FBoW\", \"yelp\")"
   ]
  },
  {
   "cell_type": "code",
   "execution_count": 7,
   "metadata": {},
   "outputs": [],
   "source": [
    "def performance_random_clf(x_tr, y_tr, x_test, y_test, r = 1234):\n",
    "    clf = DummyClassifier(strategy = 'uniform', random_state = r)\n",
    "    clf.fit(x_tr, y_tr)\n",
    "    preds = clf.predict(x_test)\n",
    "    f1 = metrics.f1_score(y_test, preds, average = 'micro')\n",
    "    return f1\n",
    "    \n",
    "def performance_majority_classifier(x_tr, y_tr, x_test, y_test, r = 1234):\n",
    "    most_common_val = stats.mode(y_tr).mode[0]\n",
    "    preds = np.full((y_test.shape), most_common_val)\n",
    "    f1 = metrics.f1_score(y_test, preds, average = 'micro')\n",
    "    return f1"
   ]
  },
  {
   "cell_type": "markdown",
   "metadata": {},
   "source": [
    "## Question 2\n",
    "\n",
    "Using data from **yelp** created with **BBoW** only."
   ]
  },
  {
   "cell_type": "code",
   "execution_count": 14,
   "metadata": {},
   "outputs": [],
   "source": [
    "x_tr = np.array([np.array(x) for x in df_yelp_train_BBoW['review'].values])\n",
    "x_tr__ = np.array([np.array(x) for x in df_imbd_train_BBoW['review'].values])\n",
    "\n",
    "y_tr = np.array([np.array(x) for x in df_yelp_train_BBoW['class'].values])\n",
    "y_tr__ = np.array([np.array(x) for x in df_imbd_train_BBoW['class'].values])\n",
    "\n",
    "x_test = np.array([np.array(x) for x in df_yelp_test_BBoW['review'].values])\n",
    "y_test = np.array([np.array(x) for x in df_yelp_test_BBoW['class'].values])"
   ]
  },
  {
   "cell_type": "markdown",
   "metadata": {},
   "source": [
    "### Part A"
   ]
  },
  {
   "cell_type": "code",
   "execution_count": 30,
   "metadata": {},
   "outputs": [],
   "source": [
    "baseline_random = performance_random_clf(x_tr, y_tr, x_test, y_test)\n",
    "baseline_majority = performance_majority_classifier(x_tr__, y_tr, x_test, y_test)"
   ]
  },
  {
   "cell_type": "code",
   "execution_count": 33,
   "metadata": {},
   "outputs": [
    {
     "name": "stdout",
     "output_type": "stream",
     "text": [
      "The performance for the random classifier on the Yelp reviews dataset created with BBoW is 0.1975.\n",
      "The performance for the majority classifier on the Yelp reviews dataset created with BBoW is 0.351.\n"
     ]
    }
   ],
   "source": [
    "print(\"The performance for the random classifier on the Yelp \" + \n",
    "      \"reviews dataset created with BBoW is %s.\" % baseline_random)\n",
    "print(\"The performance for the majority classifier on the Yelp \" +\n",
    "      \"reviews dataset created with BBoW is %s.\" % baseline_majority)"
   ]
  },
  {
   "cell_type": "code",
   "execution_count": null,
   "metadata": {},
   "outputs": [],
   "source": []
  },
  {
   "cell_type": "code",
   "execution_count": null,
   "metadata": {},
   "outputs": [],
   "source": []
  },
  {
   "cell_type": "code",
   "execution_count": null,
   "metadata": {},
   "outputs": [],
   "source": []
  },
  {
   "cell_type": "code",
   "execution_count": null,
   "metadata": {},
   "outputs": [],
   "source": []
  }
 ],
 "metadata": {
  "kernelspec": {
   "display_name": "Python 3",
   "language": "python",
   "name": "python3"
  },
  "language_info": {
   "codemirror_mode": {
    "name": "ipython",
    "version": 3
   },
   "file_extension": ".py",
   "mimetype": "text/x-python",
   "name": "python",
   "nbconvert_exporter": "python",
   "pygments_lexer": "ipython3",
   "version": "3.6.2"
  }
 },
 "nbformat": 4,
 "nbformat_minor": 2
}
