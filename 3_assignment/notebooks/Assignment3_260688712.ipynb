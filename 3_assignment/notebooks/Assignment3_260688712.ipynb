{
 "cells": [
  {
   "cell_type": "code",
   "execution_count": 1,
   "metadata": {},
   "outputs": [],
   "source": [
    "import numpy as np\n",
    "import pandas as pd\n",
    "import sklearn"
   ]
  },
  {
   "cell_type": "code",
   "execution_count": 2,
   "metadata": {},
   "outputs": [],
   "source": [
    "path_to_data = \"../data/\"\n",
    "\n",
    "# paht to imbd\n",
    "imbd_train = \"IMDB-train.txt\"\n",
    "imbd_val = \"IMDB-valid.txt\"\n",
    "imbd_test = \"IMDB-test.txt\"\n",
    "\n",
    "# paht to yelp\n",
    "yelp_train = \"yelp-train.txt\"\n",
    "yelp_val = \"yelp-valid.txt\"\n",
    "yelp_test = \"yelp-test.txt\""
   ]
  },
  {
   "cell_type": "code",
   "execution_count": 8,
   "metadata": {},
   "outputs": [],
   "source": [
    "# get the data as df\n",
    "df_imbd_train = pd.read_csv(path_to_data + yelp_train, sep=\"\\t\",\n",
    "                            header=None).rename(columns={0: \"review\", 1: \"class\"})\n",
    "df_imbd_test = pd.read_csv(path_to_data + yelp_test, sep=\"\\t\",\n",
    "                            header=None).rename(columns={0: \"review\", 1: \"class\"})\n",
    "df_imbd_val = pd.read_csv(path_to_data + yelp_val, sep=\"\\t\",\n",
    "                            header=None).rename(columns={0: \"review\", 1: \"class\"})\n",
    "\n",
    "df_yelp_train = pd.read_csv(path_to_data + yelp_train, sep=\"\\t\",\n",
    "                            header=None).rename(columns={0: \"review\", 1: \"class\"})\n",
    "df_yelp_test = pd.read_csv(path_to_data + yelp_test, sep=\"\\t\",\n",
    "                            header=None).rename(columns={0: \"review\", 1: \"class\"})\n",
    "df_yelp_val = pd.read_csv(path_to_data + yelp_val, sep=\"\\t\",\n",
    "                            header=None).rename(columns={0: \"review\", 1: \"class\"})"
   ]
  },
  {
   "cell_type": "code",
   "execution_count": null,
   "metadata": {},
   "outputs": [],
   "source": []
  },
  {
   "cell_type": "code",
   "execution_count": null,
   "metadata": {},
   "outputs": [],
   "source": []
  }
 ],
 "metadata": {
  "kernelspec": {
   "display_name": "Python 3",
   "language": "python",
   "name": "python3"
  },
  "language_info": {
   "codemirror_mode": {
    "name": "ipython",
    "version": 3
   },
   "file_extension": ".py",
   "mimetype": "text/x-python",
   "name": "python",
   "nbconvert_exporter": "python",
   "pygments_lexer": "ipython3",
   "version": "3.6.2"
  }
 },
 "nbformat": 4,
 "nbformat_minor": 2
}
