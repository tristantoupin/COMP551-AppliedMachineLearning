{
 "cells": [
  {
   "cell_type": "markdown",
   "metadata": {},
   "source": [
    "# 3. Gradient Descent for Regression"
   ]
  },
  {
   "cell_type": "markdown",
   "metadata": {},
   "source": [
    "### Imports"
   ]
  },
  {
   "cell_type": "code",
   "execution_count": 47,
   "metadata": {},
   "outputs": [],
   "source": [
    "import numpy as np\n",
    "import pandas as pd\n",
    "import itertools\n",
    "from collections import deque\n",
    "import matplotlib.pyplot as plt"
   ]
  },
  {
   "cell_type": "markdown",
   "metadata": {},
   "source": [
    "### Global"
   ]
  },
  {
   "cell_type": "code",
   "execution_count": 2,
   "metadata": {},
   "outputs": [],
   "source": [
    "np.random.seed = 12345\n",
    "datasets_path = \"../Datasets/\""
   ]
  },
  {
   "cell_type": "markdown",
   "metadata": {},
   "source": [
    "### Variables"
   ]
  },
  {
   "cell_type": "code",
   "execution_count": 3,
   "metadata": {},
   "outputs": [],
   "source": [
    "# Storing data in dataframes, and dropping a random column with unknown values in it, plus renaming the columns\n",
    "df_train = pd.read_csv(datasets_path + \n",
    "                       \"Dataset_2_train.csv\", \n",
    "                       header = None).drop(labels=2, axis=1).rename(index=str, columns={0: \"x\", 1: \"y\"})\n",
    "df_test = pd.read_csv(datasets_path + \n",
    "                      \"Dataset_2_test.csv\", \n",
    "                      header = None).drop(labels=2, axis=1).rename(index=str, columns={0: \"x\", 1: \"y\"})\n",
    "df_val = pd.read_csv(datasets_path + \n",
    "                     \"Dataset_2_valid.csv\", \n",
    "                     header = None).drop(labels=2, axis=1).rename(index=str, columns={0: \"x\", 1: \"y\"})"
   ]
  },
  {
   "cell_type": "markdown",
   "metadata": {},
   "source": [
    "## Part 1"
   ]
  },
  {
   "cell_type": "code",
   "execution_count": 61,
   "metadata": {},
   "outputs": [
    {
     "name": "stdout",
     "output_type": "stream",
     "text": [
      " \n",
      "3.318 x + 3.392\n"
     ]
    }
   ],
   "source": [
    "regression_fn_coeffs = np.random.rand(2)*10\n",
    "patience = 1000  # To measure learning stature\n",
    "print(np.poly1d(regression_fn_coeffs))"
   ]
  },
  {
   "cell_type": "code",
   "execution_count": 62,
   "metadata": {},
   "outputs": [],
   "source": [
    "def get_loss(xs, ys, w_i):\n",
    "    loss = 0\n",
    "    for x, y in zip(xs,ys):\n",
    "        loss += (np.polyval(regression_fn_coeffs, x) - y) * (x**(1-w_i))\n",
    "    return loss/(len(xs))\n",
    "\n",
    "def compute_mse(xs, ys):\n",
    "    mse = ((np.polyval(regression_fn_coeffs, xs) - ys) ** 2).mean()\n",
    "    return mse\n",
    "\n",
    "def plot_fcts():\n",
    "    plt.plot(df_train.x.values, np.polyval(regression_fn_coeffs, df_train.x.values), 'ro',\n",
    "             df_train.x.values, df_train.y.values, 'bo')\n",
    "    fig = plt.gcf()\n",
    "    fig.set_size_inches(18.5, 10.5)\n",
    "    plt.show()"
   ]
  },
  {
   "cell_type": "code",
   "execution_count": 65,
   "metadata": {},
   "outputs": [],
   "source": [
    "def train(df_train, df_val, learning_rate = 1e-6):\n",
    "    # train and valication data\n",
    "    xs, ys = df_train.x.values, df_train.y.values\n",
    "    x_val, y_val = df_val.x.values, df_val.y.values\n",
    "    \n",
    "    # rolling window over MSE to stop when stature\n",
    "    rolling_loss_val = deque(maxlen=patience)\n",
    "    all_mse_val, all_mse_tr = [], []\n",
    "    epoch = 0\n",
    "    \n",
    "    # Training loop, stoping based on rolling_mse\n",
    "    while True:\n",
    "        loss = []\n",
    "        for c_i, c in enumerate(regression_fn_coeffs):\n",
    "            loss.append(get_loss(xs, ys, c_i))\n",
    "            # update weights\n",
    "            regression_fn_coeffs[c_i] -= learning_rate * loss[-1]\n",
    "\n",
    "        # get epoch MSE for validation and train\n",
    "        current_mse_val, current_mse_tr = compute_mse(x_val, y_val), compute_mse(xs, ys)\n",
    "        \n",
    "        # add MSEs and loss to lists\n",
    "        all_mse_val.append(current_mse_val)\n",
    "        all_mse_tr.append(current_mse_tr)\n",
    "        rolling_loss_val.append(np.mean(loss))\n",
    "        \n",
    "        # evaluate model every 1000 steps and stop if stature\n",
    "        if epoch % patience == 0 and epoch >= patience:\n",
    "            first_half = np.mean(list(itertools.islice(rolling_loss_val, 0, int(patience/2))))\n",
    "            second_half = np.mean(list(itertools.islice(rolling_loss_val, int(patience/2), patience)))\n",
    "            if first_half > second_half:\n",
    "                # Not learning anymore, returning all mse\n",
    "                return all_mse_tr, all_mse_val\n",
    "        epoch += 1"
   ]
  },
  {
   "cell_type": "code",
   "execution_count": null,
   "metadata": {
    "scrolled": false
   },
   "outputs": [],
   "source": [
    "all_mse_train, all_mse_val = train(df_train, df_val, 1e-6)"
   ]
  },
  {
   "cell_type": "code",
   "execution_count": null,
   "metadata": {},
   "outputs": [],
   "source": [
    "# Blue line is validation data\n",
    "# Red line is training data\n",
    "plt.plot(range(len(all_mse_train)), all_mse_train, 'ro', range(len(all_mse_val)), all_mse_val, 'bo')\n",
    "fig = plt.gcf()\n",
    "fig.set_size_inches(18.5, 10.5)\n",
    "plt.show()"
   ]
  },
  {
   "cell_type": "markdown",
   "metadata": {},
   "source": [
    "### Part 2"
   ]
  },
  {
   "cell_type": "code",
   "execution_count": null,
   "metadata": {},
   "outputs": [],
   "source": [
    "print(np.poly1d(regression_fn_coeffs))"
   ]
  },
  {
   "cell_type": "code",
   "execution_count": 9,
   "metadata": {},
   "outputs": [],
   "source": []
  },
  {
   "cell_type": "markdown",
   "metadata": {},
   "source": [
    "## Part 3"
   ]
  },
  {
   "cell_type": "code",
   "execution_count": null,
   "metadata": {},
   "outputs": [],
   "source": []
  },
  {
   "cell_type": "code",
   "execution_count": null,
   "metadata": {},
   "outputs": [],
   "source": []
  },
  {
   "cell_type": "code",
   "execution_count": null,
   "metadata": {},
   "outputs": [],
   "source": []
  }
 ],
 "metadata": {
  "kernelspec": {
   "display_name": "Python 3",
   "language": "python",
   "name": "python3"
  },
  "language_info": {
   "codemirror_mode": {
    "name": "ipython",
    "version": 3
   },
   "file_extension": ".py",
   "mimetype": "text/x-python",
   "name": "python",
   "nbconvert_exporter": "python",
   "pygments_lexer": "ipython3",
   "version": "3.6.2"
  }
 },
 "nbformat": 4,
 "nbformat_minor": 2
}
