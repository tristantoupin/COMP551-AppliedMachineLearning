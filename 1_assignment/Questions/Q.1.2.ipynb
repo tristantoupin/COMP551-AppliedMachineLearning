{
 "cells": [
  {
   "cell_type": "markdown",
   "metadata": {},
   "source": [
    "### Imports"
   ]
  },
  {
   "cell_type": "code",
   "execution_count": 2,
   "metadata": {},
   "outputs": [],
   "source": [
    "# imports\n",
    "import numpy as np"
   ]
  },
  {
   "cell_type": "markdown",
   "metadata": {},
   "source": [
    "### Global"
   ]
  },
  {
   "cell_type": "code",
   "execution_count": 3,
   "metadata": {},
   "outputs": [],
   "source": [
    "# global\n",
    "np.random.seed = 12345\n",
    "BOLD = '\\033[1m'\n",
    "BOLDEND = '\\033[0m'\n",
    "original_ratios = {\"Movies\": 0.2, \"COMP-551\": 0.4, \"Playing\": 0.1, \"Studying\": 0.3}"
   ]
  },
  {
   "cell_type": "markdown",
   "metadata": {},
   "source": [
    "### Variables"
   ]
  },
  {
   "cell_type": "code",
   "execution_count": 4,
   "metadata": {},
   "outputs": [],
   "source": [
    "# variables\n",
    "counts_100 = {}\n",
    "counts_1000 = {}"
   ]
  },
  {
   "cell_type": "markdown",
   "metadata": {},
   "source": [
    "### Calculate and  Print Ratios (100 days)"
   ]
  },
  {
   "cell_type": "code",
   "execution_count": 5,
   "metadata": {},
   "outputs": [
    {
     "name": "stdout",
     "output_type": "stream",
     "text": [
      "Fraction of days spent on \u001b[1m COMP-551 \u001b[0m is\u001b[1m 0.36 \u001b[0m over 100 days.\n",
      "Fraction of days spent on \u001b[1m Movies \u001b[0m is\u001b[1m 0.21 \u001b[0m over 100 days.\n",
      "Fraction of days spent on \u001b[1m Playing \u001b[0m is\u001b[1m 0.12 \u001b[0m over 100 days.\n",
      "Fraction of days spent on \u001b[1m Studying \u001b[0m is\u001b[1m 0.31 \u001b[0m over 100 days.\n"
     ]
    }
   ],
   "source": [
    "# Calculate Ratios for 100 days and print fractions\n",
    "for x in range(0, 100):\n",
    "    choice = (np.random.choice([\"Movies\",\"COMP-551\", \"Playing\", \"Studying\"], p = [0.2,0.4,0.1,0.3]))\n",
    "    counts_100[choice] = counts_100.get(choice, 0) + 1\n",
    "for (k,v) in counts_100.items():\n",
    "    print(\"Fraction of days spent on %s %s %s is\"\n",
    "          \"%s %s %s over 100 days.\" % (BOLD, k, BOLDEND,\n",
    "                                       BOLD, \"{0:.2f}\".format(v/100), BOLDEND))"
   ]
  },
  {
   "cell_type": "markdown",
   "metadata": {},
   "source": [
    "### Calculate and  Print Ratios (1000 days)"
   ]
  },
  {
   "cell_type": "code",
   "execution_count": 6,
   "metadata": {},
   "outputs": [
    {
     "name": "stdout",
     "output_type": "stream",
     "text": [
      "Fraction of days spent on \u001b[1m Studying \u001b[0m is\u001b[1m 0.295 \u001b[0m over 100 days.\n",
      "Fraction of days spent on \u001b[1m COMP-551 \u001b[0m is\u001b[1m 0.408 \u001b[0m over 100 days.\n",
      "Fraction of days spent on \u001b[1m Movies \u001b[0m is\u001b[1m 0.201 \u001b[0m over 100 days.\n",
      "Fraction of days spent on \u001b[1m Playing \u001b[0m is\u001b[1m 0.096 \u001b[0m over 100 days.\n"
     ]
    }
   ],
   "source": [
    "# Calculate Ratios for 100 days and print fractions\n",
    "for x in range(0, 1000):\n",
    "    choice = (np.random.choice([\"Movies\",\"COMP-551\", \"Playing\", \"Studying\"], p = [0.2,0.4,0.1,0.3]))\n",
    "    counts_1000[choice] = counts_1000.get(choice, 0) + 1\n",
    "for (k,v) in counts_1000.items():\n",
    "    print(\"Fraction of days spent on %s %s %s is\"\n",
    "          \"%s %s %s over 100 days.\" % (BOLD, k, BOLDEND,\n",
    "                                       BOLD, \"{0:.3f}\".format(v/1000), BOLDEND))"
   ]
  },
  {
   "cell_type": "markdown",
   "metadata": {},
   "source": [
    "### Compare Ratios (100 days)"
   ]
  },
  {
   "cell_type": "code",
   "execution_count": 7,
   "metadata": {},
   "outputs": [
    {
     "name": "stdout",
     "output_type": "stream",
     "text": [
      "Difference between original and calculated ratios over 100 days: 0.400 - 0.360 = 0.040.\n",
      "Difference between original and calculated ratios over 100 days: 0.200 - 0.210 = -0.010.\n",
      "Difference between original and calculated ratios over 100 days: 0.100 - 0.120 = -0.020.\n",
      "Difference between original and calculated ratios over 100 days: 0.300 - 0.310 = -0.010.\n"
     ]
    }
   ],
   "source": [
    "# Compare Ratios (100 days)\n",
    "for (k,v) in counts_100.items():\n",
    "    error = (original_ratios[k] - v/100)\n",
    "    print(\"Difference between original and calculated ratios over\"\n",
    "          \" 100 days: %s - %s = %s.\" % (\"{0:.3f}\".format(original_ratios[k]),\n",
    "                                       \"{0:.3f}\".format(v/100),\n",
    "                                       \"{0:.3f}\".format(error)))"
   ]
  },
  {
   "cell_type": "markdown",
   "metadata": {},
   "source": [
    "### Compare Ratios (1000 days)"
   ]
  },
  {
   "cell_type": "code",
   "execution_count": 8,
   "metadata": {},
   "outputs": [
    {
     "name": "stdout",
     "output_type": "stream",
     "text": [
      "Difference between original and calculated ratios over 1000 days: 0.300 - 0.295 = 0.005.\n",
      "Difference between original and calculated ratios over 1000 days: 0.400 - 0.408 = -0.008.\n",
      "Difference between original and calculated ratios over 1000 days: 0.200 - 0.201 = -0.001.\n",
      "Difference between original and calculated ratios over 1000 days: 0.100 - 0.096 = 0.004.\n"
     ]
    }
   ],
   "source": [
    "# Compare Ratios (1000 days)\n",
    "for (k,v) in counts_1000.items():\n",
    "    error = (original_ratios[k] - v/1000)\n",
    "    print(\"Difference between original and calculated ratios over\"\n",
    "          \" 1000 days: %s - %s = %s.\" % (\"{0:.3f}\".format(original_ratios[k]),\n",
    "                                        \"{0:.3f}\".format(v/1000),\n",
    "                                        \"{0:.3f}\".format(error)))"
   ]
  },
  {
   "cell_type": "markdown",
   "metadata": {},
   "source": [
    "### Observation\n",
    "\n",
    "-> The error over 1000 days is smaller on average than over 100 days"
   ]
  }
 ],
 "metadata": {
  "kernelspec": {
   "display_name": "Python 3",
   "language": "python",
   "name": "python3"
  },
  "language_info": {
   "codemirror_mode": {
    "name": "ipython",
    "version": 3
   },
   "file_extension": ".py",
   "mimetype": "text/x-python",
   "name": "python",
   "nbconvert_exporter": "python",
   "pygments_lexer": "ipython3",
   "version": "3.6.2"
  }
 },
 "nbformat": 4,
 "nbformat_minor": 2
}
