{
 "cells": [
  {
   "cell_type": "markdown",
   "metadata": {},
   "source": [
    "### Imports"
   ]
  },
  {
   "cell_type": "code",
   "execution_count": 1,
   "metadata": {},
   "outputs": [],
   "source": [
    "# imports\n",
    "import numpy as np\n",
    "import matplotlib"
   ]
  },
  {
   "cell_type": "markdown",
   "metadata": {},
   "source": [
    "### Global"
   ]
  },
  {
   "cell_type": "code",
   "execution_count": 8,
   "metadata": {},
   "outputs": [],
   "source": [
    "# global\n",
    "np.random.seed = 123\n",
    "BOLD = '\\033[1m'\n",
    "BOLDEND = '\\033[0m'\n",
    "original_ratios = {\"Movies\": 0.2, \"COMP-551\": 0.4, \"Playing\": 0.1, \"Studying\": 0.3}"
   ]
  },
  {
   "cell_type": "markdown",
   "metadata": {},
   "source": [
    "### Variables"
   ]
  },
  {
   "cell_type": "code",
   "execution_count": 9,
   "metadata": {},
   "outputs": [],
   "source": [
    "# variables\n",
    "counts_100 = {}\n",
    "counts_1000 = {}"
   ]
  },
  {
   "cell_type": "markdown",
   "metadata": {},
   "source": [
    "### Calculate and  Print Ratios (100 days)"
   ]
  },
  {
   "cell_type": "code",
   "execution_count": 10,
   "metadata": {},
   "outputs": [
    {
     "name": "stdout",
     "output_type": "stream",
     "text": [
      "Fraction of days spent on \u001b[1m COMP-551 \u001b[0m is\u001b[1m 0.41 \u001b[0m over 100 days.\n",
      "Fraction of days spent on \u001b[1m Playing \u001b[0m is\u001b[1m 0.13 \u001b[0m over 100 days.\n",
      "Fraction of days spent on \u001b[1m Movies \u001b[0m is\u001b[1m 0.19 \u001b[0m over 100 days.\n",
      "Fraction of days spent on \u001b[1m Studying \u001b[0m is\u001b[1m 0.27 \u001b[0m over 100 days.\n"
     ]
    }
   ],
   "source": [
    "# Calculate Ratios for 100 days and print fractions\n",
    "for x in range(0, 100):\n",
    "    choice = (np.random.choice([\"Movies\",\"COMP-551\", \"Playing\", \"Studying\"], p = [0.2,0.4,0.1,0.3]))\n",
    "    counts_100[choice] = counts_100.get(choice, 0) + 1\n",
    "for (k,v) in counts_100.items():\n",
    "    print(\"Fraction of days spent on %s %s %s is\"\n",
    "          \"%s %s %s over 100 days.\" % (BOLD, k, BOLDEND,\n",
    "                                       BOLD, \"{0:.2f}\".format(v/100), BOLDEND))"
   ]
  },
  {
   "cell_type": "markdown",
   "metadata": {},
   "source": [
    "### Calculate and  Print Ratios (1000 days)"
   ]
  },
  {
   "cell_type": "code",
   "execution_count": 11,
   "metadata": {},
   "outputs": [
    {
     "name": "stdout",
     "output_type": "stream",
     "text": [
      "Fraction of days spent on \u001b[1m Playing \u001b[0m is\u001b[1m 0.101 \u001b[0m over 100 days.\n",
      "Fraction of days spent on \u001b[1m COMP-551 \u001b[0m is\u001b[1m 0.412 \u001b[0m over 100 days.\n",
      "Fraction of days spent on \u001b[1m Studying \u001b[0m is\u001b[1m 0.305 \u001b[0m over 100 days.\n",
      "Fraction of days spent on \u001b[1m Movies \u001b[0m is\u001b[1m 0.182 \u001b[0m over 100 days.\n"
     ]
    }
   ],
   "source": [
    "# Calculate Ratios for 100 days and print fractions\n",
    "for x in range(0, 1000):\n",
    "    choice = (np.random.choice([\"Movies\",\"COMP-551\", \"Playing\", \"Studying\"], p = [0.2,0.4,0.1,0.3]))\n",
    "    counts_1000[choice] = counts_1000.get(choice, 0) + 1\n",
    "for (k,v) in counts_1000.items():\n",
    "    print(\"Fraction of days spent on %s %s %s is\"\n",
    "          \"%s %s %s over 100 days.\" % (BOLD, k, BOLDEND,\n",
    "                                       BOLD, \"{0:.3f}\".format(v/1000), BOLDEND))"
   ]
  },
  {
   "cell_type": "markdown",
   "metadata": {},
   "source": [
    "### Compare Ratios (100 days)"
   ]
  },
  {
   "cell_type": "code",
   "execution_count": 12,
   "metadata": {},
   "outputs": [
    {
     "name": "stdout",
     "output_type": "stream",
     "text": [
      "Difference between original and calculated ratios over100 days: 0.400 - 0.410 = -0.010.\n",
      "Difference between original and calculated ratios over100 days: 0.100 - 0.130 = -0.030.\n",
      "Difference between original and calculated ratios over100 days: 0.200 - 0.190 = 0.010.\n",
      "Difference between original and calculated ratios over100 days: 0.300 - 0.270 = 0.030.\n"
     ]
    }
   ],
   "source": [
    "# Compare Ratios (100 days)\n",
    "for (k,v) in counts_100.items():\n",
    "    error = (original_ratios[k] - v/100)\n",
    "    print(\"Difference between original and calculated ratios over\"\n",
    "          \"100 days: %s - %s = %s.\" % (\"{0:.3f}\".format(original_ratios[k]),\n",
    "                                       \"{0:.3f}\".format(v/100),\n",
    "                                       \"{0:.3f}\".format(error)))"
   ]
  },
  {
   "cell_type": "markdown",
   "metadata": {},
   "source": [
    "### Compare Ratios (1000 days)"
   ]
  },
  {
   "cell_type": "code",
   "execution_count": 13,
   "metadata": {},
   "outputs": [
    {
     "name": "stdout",
     "output_type": "stream",
     "text": [
      "Difference between original and calculated ratios over1000 days: 0.100 - 0.101 = -0.001.\n",
      "Difference between original and calculated ratios over1000 days: 0.400 - 0.412 = -0.012.\n",
      "Difference between original and calculated ratios over1000 days: 0.300 - 0.305 = -0.005.\n",
      "Difference between original and calculated ratios over1000 days: 0.200 - 0.182 = 0.018.\n"
     ]
    }
   ],
   "source": [
    "# Compare Ratios (1000 days)\n",
    "for (k,v) in counts_1000.items():\n",
    "    error = (original_ratios[k] - v/1000)\n",
    "    print(\"Difference between original and calculated ratios over\"\n",
    "          \"1000 days: %s - %s = %s.\" % (\"{0:.3f}\".format(original_ratios[k]),\n",
    "                                        \"{0:.3f}\".format(v/1000),\n",
    "                                        \"{0:.3f}\".format(error)))"
   ]
  },
  {
   "cell_type": "markdown",
   "metadata": {},
   "source": [
    "### Observations\n",
    "\n",
    "-> The error over 1000 days is smaller on average than over 100 days"
   ]
  },
  {
   "cell_type": "code",
   "execution_count": null,
   "metadata": {},
   "outputs": [],
   "source": []
  }
 ],
 "metadata": {
  "kernelspec": {
   "display_name": "Python 3",
   "language": "python",
   "name": "python3"
  },
  "language_info": {
   "codemirror_mode": {
    "name": "ipython",
    "version": 3
   },
   "file_extension": ".py",
   "mimetype": "text/x-python",
   "name": "python",
   "nbconvert_exporter": "python",
   "pygments_lexer": "ipython3",
   "version": "3.6.2"
  }
 },
 "nbformat": 4,
 "nbformat_minor": 2
}
