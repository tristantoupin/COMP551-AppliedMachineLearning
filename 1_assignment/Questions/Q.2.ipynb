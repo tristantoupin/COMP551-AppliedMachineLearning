{
 "cells": [
  {
   "cell_type": "markdown",
   "metadata": {},
   "source": [
    "### Imports"
   ]
  },
  {
   "cell_type": "code",
   "execution_count": 3,
   "metadata": {},
   "outputs": [],
   "source": [
    "import numpy as np\n",
    "import pandas as pd"
   ]
  },
  {
   "cell_type": "markdown",
   "metadata": {},
   "source": [
    "### Global"
   ]
  },
  {
   "cell_type": "code",
   "execution_count": 94,
   "metadata": {},
   "outputs": [],
   "source": [
    "np.random.seed = 12345\n",
    "BOLD = '\\033[1m'\n",
    "BOLDEND = '\\033[0m'\n",
    "datasets_path = \"../Datasets/\""
   ]
  },
  {
   "cell_type": "markdown",
   "metadata": {},
   "source": [
    "### Variables"
   ]
  },
  {
   "cell_type": "code",
   "execution_count": 23,
   "metadata": {},
   "outputs": [],
   "source": [
    "# Storing data in dataframes, and dropping a random column with unknown values in it, plus renaming the columns\n",
    "df_train = pd.read_csv(datasets_path + \n",
    "                       \"Dataset_1_train.csv\", \n",
    "                       header = None).drop(labels=2, axis=1).rename(index=str, columns={0: \"x\", 1: \"y\"})\n",
    "df_test = pd.read_csv(datasets_path + \n",
    "                      \"Dataset_1_test.csv\", \n",
    "                      header = None).drop(labels=2, axis=1).rename(index=str, columns={0: \"x\", 1: \"y\"})\n",
    "df_val = pd.read_csv(datasets_path + \n",
    "                     \"Dataset_1_valid.csv\", \n",
    "                     header = None).drop(labels=2, axis=1).rename(index=str, columns={0: \"x\", 1: \"y\"})"
   ]
  },
  {
   "cell_type": "markdown",
   "metadata": {},
   "source": [
    "### Fit Polynomial"
   ]
  },
  {
   "cell_type": "code",
   "execution_count": 80,
   "metadata": {},
   "outputs": [],
   "source": [
    "# Getting coefficients and getting the function\n",
    "poly_coefficients = np.polyfit(df_train.x, df_train.y, 20)\n",
    "poly_fn = np.poly1d(poly_coefficients)"
   ]
  },
  {
   "cell_type": "code",
   "execution_count": 90,
   "metadata": {},
   "outputs": [],
   "source": [
    "# Function to calculate MSE on a dataset\n",
    "def get_mean_squared_error(data):\n",
    "    sum_ = 0\n",
    "    for x, y in zip(data.x.values, data.y.values):\n",
    "        sum_ += np.square(y - poly_fn(x))\n",
    "    return sum_/len(data.x.values)"
   ]
  },
  {
   "cell_type": "code",
   "execution_count": 97,
   "metadata": {},
   "outputs": [
    {
     "name": "stdout",
     "output_type": "stream",
     "text": [
      "Mean Squared Error on the Traning dataset is \u001b[1m 6.47 \u001b[0m\n",
      "Mean Squared Error on the Traning dataset is \u001b[1m 1418.51 \u001b[0m\n"
     ]
    }
   ],
   "source": [
    "print(\"Mean Squared Error on the Traning dataset is %s %s %s\"\n",
    "      % (BOLD, \"{0:.2f}\".format(get_mean_squared_error(df_train)), BOLDEND))\n",
    "print(\"Mean Squared Error on the Traning dataset is %s %s %s\"\n",
    "      % (BOLD, \"{0:.2f}\".format(get_mean_squared_error(df_val)), BOLDEND))"
   ]
  },
  {
   "cell_type": "markdown",
   "metadata": {},
   "source": [
    "### Visualization"
   ]
  },
  {
   "cell_type": "code",
   "execution_count": null,
   "metadata": {},
   "outputs": [],
   "source": []
  }
 ],
 "metadata": {
  "kernelspec": {
   "display_name": "Python 3",
   "language": "python",
   "name": "python3"
  },
  "language_info": {
   "codemirror_mode": {
    "name": "ipython",
    "version": 3
   },
   "file_extension": ".py",
   "mimetype": "text/x-python",
   "name": "python",
   "nbconvert_exporter": "python",
   "pygments_lexer": "ipython3",
   "version": "3.6.2"
  }
 },
 "nbformat": 4,
 "nbformat_minor": 2
}
