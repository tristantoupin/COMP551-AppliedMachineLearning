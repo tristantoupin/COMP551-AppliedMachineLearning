{
 "cells": [
  {
   "cell_type": "markdown",
   "metadata": {},
   "source": [
    "# 3. Gradient Descent for Regression"
   ]
  },
  {
   "cell_type": "markdown",
   "metadata": {},
   "source": [
    "### Imports"
   ]
  },
  {
   "cell_type": "code",
   "execution_count": 1,
   "metadata": {},
   "outputs": [],
   "source": [
    "import numpy as np\n",
    "import pandas as pd\n",
    "import itertools\n",
    "from collections import deque\n",
    "import matplotlib.pyplot as plt"
   ]
  },
  {
   "cell_type": "markdown",
   "metadata": {},
   "source": [
    "### Global"
   ]
  },
  {
   "cell_type": "code",
   "execution_count": 2,
   "metadata": {},
   "outputs": [],
   "source": [
    "np.random.seed = 12345\n",
    "datasets_path = \"../Datasets/\""
   ]
  },
  {
   "cell_type": "markdown",
   "metadata": {},
   "source": [
    "### Variables"
   ]
  },
  {
   "cell_type": "code",
   "execution_count": 3,
   "metadata": {},
   "outputs": [],
   "source": [
    "# Storing data in dataframes, and dropping a random column with unknown values in it, plus renaming the columns\n",
    "df_train = pd.read_csv(datasets_path + \n",
    "                       \"Dataset_2_train.csv\", \n",
    "                       header = None).drop(labels=2, axis=1).rename(index=str, columns={0: \"x\", 1: \"y\"})\n",
    "df_test = pd.read_csv(datasets_path + \n",
    "                      \"Dataset_2_test.csv\", \n",
    "                      header = None).drop(labels=2, axis=1).rename(index=str, columns={0: \"x\", 1: \"y\"})\n",
    "df_val = pd.read_csv(datasets_path + \n",
    "                     \"Dataset_2_valid.csv\", \n",
    "                     header = None).drop(labels=2, axis=1).rename(index=str, columns={0: \"x\", 1: \"y\"})"
   ]
  },
  {
   "cell_type": "markdown",
   "metadata": {},
   "source": [
    "## Part 1"
   ]
  },
  {
   "cell_type": "code",
   "execution_count": 4,
   "metadata": {},
   "outputs": [],
   "source": [
    "patience = 10000  # To measure learning stature"
   ]
  },
  {
   "cell_type": "code",
   "execution_count": 5,
   "metadata": {},
   "outputs": [],
   "source": [
    "def loss(xs, ys, w):\n",
    "    ys = np.asarray(ys)\n",
    "    return np.asarray(xs.dot(w) - ys).dot(xs)/len(xs)\n",
    "\n",
    "def mse(xs, ys, w):\n",
    "    ys = np.asarray(ys)\n",
    "    return (np.asarray(xs.dot(w) - ys) ** 2).mean()\n",
    "\n",
    "def plot_fcts(xs, ys, w):\n",
    "    x_lin = np.linspace(min(xs[:,-1]), max(xs[:,-1]), 200)\n",
    "    x_lin = np.hstack((np.ones_like(x_lin), x_lin)).reshape(2, len(x_lin)).T\n",
    "\n",
    "    plt.plot(x_lin[:,-1], x_lin.dot(w), 'ro',\n",
    "             xs[:,-1], ys, 'bo')\n",
    "    fig = plt.gcf()\n",
    "    fig.set_size_inches(18.5, 10.5)\n",
    "    plt.show()"
   ]
  },
  {
   "cell_type": "code",
   "execution_count": 6,
   "metadata": {},
   "outputs": [],
   "source": [
    "def train(df_train, df_val, w, learning_rate = 1e-6, print_ = False):\n",
    "    # train and valication data\n",
    "    xs, ys = df_train.x.values, df_train.y.values\n",
    "    xs = np.hstack((np.ones_like(xs), xs)).reshape(2, len(xs)).T  # for matrix multiplication\n",
    "    x_val, y_val = df_val.x.values, df_val.y.values\n",
    "    x_val = np.hstack((np.ones_like(x_val), x_val)).reshape(2, len(x_val)).T  # for matrix multiplication\n",
    "\n",
    "    # rolling window over MSE to stop when stature\n",
    "    all_mse_val, all_mse_tr = [], []\n",
    "    epoch = 0\n",
    "    \n",
    "    # Training loop, stoping based on rolling_mse\n",
    "    while True:\n",
    "        # choosing x randomly, to introduce randomess in the model\n",
    "        position = np.random.randint(0,len(xs))\n",
    "        x = xs[position]\n",
    "        y = ys[position]\n",
    "\n",
    "        w -= learning_rate * loss(x, y, w)\n",
    "        current_mse_val, current_mse_tr = mse(x_val, y_val, w), mse(xs, ys, w)\n",
    "\n",
    "        # add MSEs and loss to lists\n",
    "        all_mse_val.append(current_mse_val)\n",
    "        all_mse_tr.append(current_mse_tr)        \n",
    "\n",
    "        # evaluate model every N steps and stop if stature\n",
    "        if epoch % patience == 0:\n",
    "            if print_:\n",
    "                print(\"Epoch\", epoch)\n",
    "                plot_fcts(xs,ys,w)\n",
    "            if epoch >= patience:\n",
    "#                 print(\"Epoch #%s: MSE = %s\" % (epoch, current_mse_val))\n",
    "#                 print(np.mean(all_mse_val[-patience:int(-patience/2)]) - np.mean(all_mse_val[int(-patience/2):]))\n",
    "                if np.mean(all_mse_val[-patience:int(-patience/2)]) - np.mean(all_mse_val[int(-patience/2):]) < 0.00001:\n",
    "                    # Not learning anymore, returning all mse\n",
    "                    return all_mse_tr, all_mse_val, w, epoch\n",
    "        \n",
    "        epoch += 1"
   ]
  },
  {
   "cell_type": "code",
   "execution_count": 7,
   "metadata": {
    "scrolled": true
   },
   "outputs": [],
   "source": [
    "w_ = np.random.rand(2)*10\n",
    "all_mse_train_, all_mse_val_, weights_, epoch_ = train(df_train, df_train, w_, 1e-6)"
   ]
  },
  {
   "cell_type": "code",
   "execution_count": 8,
   "metadata": {},
   "outputs": [
    {
     "name": "stdout",
     "output_type": "stream",
     "text": [
      " \n",
      "3.293 x + 4.652\n"
     ]
    },
    {
     "data": {
      "image/png": "[encoded data removed]",
      "text/plain": [
       "<matplotlib.figure.Figure at 0x1112b8160>"
      ]
     },
     "metadata": {},
     "output_type": "display_data"
    }
   ],
   "source": [
    "print(np.poly1d(weights_))\n",
    "x_lin = np.linspace(0, epoch_, epoch_+1)\n",
    "plt.plot(x_lin, all_mse_train_, 'r', x_lin, all_mse_val_, 'b')\n",
    "fig = plt.gcf()\n",
    "fig.set_size_inches(18.5, 10.5)\n",
    "plt.show()"
   ]
  },
  {
   "cell_type": "markdown",
   "metadata": {},
   "source": [
    "## Part 2"
   ]
  },
  {
   "cell_type": "markdown",
   "metadata": {},
   "source": [
    "### Different learning rate (2.a)"
   ]
  },
  {
   "cell_type": "code",
   "execution_count": 9,
   "metadata": {},
   "outputs": [],
   "source": [
    "step_size = [1e-1, 1e-2, 1e-3, 1e-4, 1e-5, 1e-7, 1e-8]  # not doing 1e-6 again"
   ]
  },
  {
   "cell_type": "code",
   "execution_count": null,
   "metadata": {},
   "outputs": [
    {
     "name": "stdout",
     "output_type": "stream",
     "text": [
      "For alpha 0.1 (after 30000 epoch): MSE = 0.0980770509752\n",
      "For alpha 0.01 (after 20000 epoch): MSE = 0.0956001605946\n",
      "For alpha 0.001 (after 30000 epoch): MSE = 0.0956023812945\n",
      "For alpha 0.0001 (after 530000 epoch): MSE = 0.0959167087393\n",
      "For alpha 1e-05 (after 5930000 epoch): MSE = 0.0976941308937\n"
     ]
    }
   ],
   "source": [
    "mse_val_all, coeffs, epoch, ws_all = [], [], [], []\n",
    "\n",
    "for alpha in step_size:\n",
    "    weights = np.random.rand(2)*10\n",
    "    mse_tr, mse_val, w_s, e = train(df_train, df_train, weights, alpha)\n",
    "    print(\"For alpha %s (after %s epoch): MSE = %s\" % (alpha, e, mse_val[-1]))\n",
    "    mse_val_all.append(mse_val)\n",
    "    coeffs.append(w_s)\n",
    "\n",
    "mse_val_all.append(all_mse_val_)\n",
    "coeffs.append(weights_)\n"
   ]
  },
  {
   "cell_type": "markdown",
   "metadata": {},
   "source": [
    "### Optimal solution (2.b)"
   ]
  },
  {
   "cell_type": "code",
   "execution_count": null,
   "metadata": {},
   "outputs": [],
   "source": [
    "def get_train_mse(best_model_pos):\n",
    "    xs, ys = df_test.x.values, df_test.y.values\n",
    "    xs = np.hstack((np.ones_like(xs), xs)).reshape(2, len(xs)).T  # for matrix multiplication\n",
    "    w = coeffs[best_model_pos]\n",
    "    return mse(xs, ys, w)"
   ]
  },
  {
   "cell_type": "code",
   "execution_count": null,
   "metadata": {},
   "outputs": [],
   "source": [
    "best_model = mse_val_all.index(min(mse_val_all))\n",
    "test_mse = get_train_mse(best_model)\n",
    "print(\"Best MSE is %s with alpha = %s\" % (test_mse, step_size[best_model]))"
   ]
  },
  {
   "cell_type": "markdown",
   "metadata": {},
   "source": [
    "## Part 3"
   ]
  },
  {
   "cell_type": "code",
   "execution_count": null,
   "metadata": {
    "scrolled": false
   },
   "outputs": [],
   "source": [
    "done = train(df_train, df_train, np.random.rand(2)*10, 1e-1, True)"
   ]
  },
  {
   "cell_type": "code",
   "execution_count": null,
   "metadata": {},
   "outputs": [],
   "source": []
  }
 ],
 "metadata": {
  "kernelspec": {
   "display_name": "Python 3",
   "language": "python",
   "name": "python3"
  },
  "language_info": {
   "codemirror_mode": {
    "name": "ipython",
    "version": 3
   },
   "file_extension": ".py",
   "mimetype": "text/x-python",
   "name": "python",
   "nbconvert_exporter": "python",
   "pygments_lexer": "ipython3",
   "version": "3.6.2"
  }
 },
 "nbformat": 4,
 "nbformat_minor": 2
}
